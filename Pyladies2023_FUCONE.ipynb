{
 "cells": [
  {
   "cell_type": "markdown",
   "id": "16557a9d-0e1e-433a-9d9f-03ab4d8acc81",
   "metadata": {},
   "source": [
    "<img style=\"float: right;\" src=\"figures/pylady_geek.png\">"
   ]
  },
  {
   "cell_type": "markdown",
   "id": "e3d909e7-6384-426d-a6da-958d870983b1",
   "metadata": {},
   "source": [
    "## How can I perform a comparison between ML pipelines in BCI?\n",
    "#### [Marie-Constance Corsi](https://marieconstance-corsi.netlify.app/), Aramis lab, Paris"
   ]
  },
  {
   "cell_type": "markdown",
   "id": "3376de0c-ef01-4b9d-9915-8af78e45dcef",
   "metadata": {},
   "source": [
    "## Overview\n",
    "\n",
    "* Generalities\n",
    "* Defining a pipeline\n",
    "* Comparison with the state-of-the art\n",
    "* Statistical analysis\n",
    "* Plotting the results\n",
    "* Concluding remarks / FAQ"
   ]
  },
  {
   "cell_type": "markdown",
   "id": "6d241ad6-d2e6-43ac-9bcf-83b0d13c9485",
   "metadata": {},
   "source": [
    "<img style=\"float: right;\" src=\"figures/python.png\" alt=\"drawing\" width=\"120\">\n",
    "\n",
    "### Generalities\n",
    "\n",
    "This demo relies on several open-source Python packages:\n",
    "\n",
    "* [MOABB](http://moabb.neurotechx.com/docs/) & [[Jayaram & Barachant, 2018]](https://iopscience.iop.org/article/10.1088/1741-2552/aadea0)\n",
    "* [Pyriemann](https://pyriemann.readthedocs.io/en/latest/#) & [[Barachant et al, 2022]](https://doi.org/10.5281/zenodo.7547583)\n",
    "* [MNE-Python](https://mne.tools/stable/index.html) & [[Gramfort et al, 2014]](https://pubmed.ncbi.nlm.nih.gov/24161808/)\n",
    "* [scikit-learn](https://scikit-learn.org/stable/)\n",
    "* [Matplotlib](https://matplotlib.org/stable/index.html)\n",
    "* [Seaborn](https://seaborn.pydata.org)\n",
    "* [Pyvis](https://pyvis.readthedocs.io/en/latest/tutorial.html)\n",
    "\n",
    "\n",
    "The packages used for running this notebook are indicated in the requirements.txt file and could be installed with ``` pip install -r requirements.txt ```\n",
    "\n",
    "#### Dataset\n",
    "Use of an open dataset from [[Schalk et al, 2004]](https://ieeexplore.ieee.org/document/1300799)\n",
    "\n",
    "#### /!\\ Warning /!\\\n",
    "Here, we will compare the performance obtained with the [FUCONE](https://github.com/mccorsi/FUCONE) approach presented during the talk and the state-of-the-art methods. Most of the materials can be found [here](https://pyriemann.readthedocs.io/en/latest/auto_examples/motor-imagery/plot_ensemble_coherence.html).\n",
    "\n",
    "The choice and the parametrization of the methods may differ depending on your dataset and your hypothesis !"
   ]
  },
  {
   "cell_type": "markdown",
   "id": "76556ac9-870c-4175-9d7a-ec3aa349dae5",
   "metadata": {},
   "source": [
    "### Step 0 - We import the packages necessary to perform our analysis"
   ]
  },
  {
   "cell_type": "code",
   "execution_count": 18,
   "id": "ef89ac97-f78f-41ef-a337-a865a831cadf",
   "metadata": {},
   "outputs": [],
   "source": [
    "import matplotlib.pyplot as plt\n",
    "\n",
    "import moabb.analysis.plotting as moabb_plt\n",
    "from moabb.analysis.meta_analysis import (  # noqa: E501\n",
    "    compute_dataset_statistics,\n",
    "    find_significant_differences,\n",
    ")\n",
    "\n",
    "from mne import Epochs, pick_types, events_from_annotations\n",
    "from mne.io import concatenate_raws\n",
    "from mne.io.edf import read_raw_edf\n",
    "from mne.datasets import eegbci\n",
    "\n",
    "import numpy as np\n",
    "import pandas as pd\n",
    "import seaborn as sns\n",
    "\n",
    "from pyriemann.classification import FgMDM\n",
    "from pyriemann.estimation import Covariances, Coherences\n",
    "from pyriemann.spatialfilters import CSP\n",
    "from pyriemann.tangentspace import TangentSpace\n",
    "\n",
    "from sklearn.base import BaseEstimator, TransformerMixin\n",
    "from sklearn.ensemble import StackingClassifier\n",
    "from sklearn.linear_model import LogisticRegression\n",
    "from sklearn.model_selection import GridSearchCV, StratifiedKFold\n",
    "from sklearn.pipeline import Pipeline\n",
    "from sklearn.svm import SVC\n",
    "\n",
    "from helpers.coherence_helpers import (\n",
    "    NearestSPD,\n",
    "    get_results,\n",
    ")"
   ]
  },
  {
   "cell_type": "markdown",
   "id": "657a1025-5348-4606-aab6-d854cd39367e",
   "metadata": {},
   "source": [
    "### Step 1 - We define a class to extract connectivity-based features"
   ]
  },
  {
   "cell_type": "code",
   "execution_count": 19,
   "id": "5093ce0a-f873-4054-b43b-3575489e0f8f",
   "metadata": {},
   "outputs": [],
   "source": [
    "class Connectivities(TransformerMixin, BaseEstimator):\n",
    "    \"\"\"Getting connectivity features from epoch\"\"\"\n",
    "\n",
    "    def __init__(self, method=\"ordinary\", fmin=8, fmax=35, fs=None):\n",
    "        self.method = method\n",
    "        self.fmin = fmin\n",
    "        self.fmax = fmax\n",
    "        self.fs = fs\n",
    "\n",
    "    def fit(self, X, y=None):\n",
    "        self._coh = Coherences(\n",
    "            coh=self.method,\n",
    "            fmin=self.fmin,\n",
    "            fmax=self.fmax,\n",
    "            fs=self.fs,\n",
    "        )\n",
    "        return self\n",
    "\n",
    "    def transform(self, X):\n",
    "        X_coh = self._coh.fit_transform(X)\n",
    "        X_con = np.mean(X_coh, axis=-1, keepdims=False)\n",
    "        return X_con"
   ]
  },
  {
   "cell_type": "markdown",
   "id": "3e314c5f-2fce-491b-8dfb-c4b1584552cf",
   "metadata": {},
   "source": [
    "### Step 2 - We load the data we need from the eegbci dataset"
   ]
  },
  {
   "cell_type": "code",
   "execution_count": 3,
   "id": "7a8264f4-8299-49a7-bb18-2be29af97206",
   "metadata": {},
   "outputs": [
    {
     "name": "stdout",
     "output_type": "stream",
     "text": [
      "Extracting EDF parameters from /Users/marieconstance.corsi/Documents/GitHub/datasets/MNE-eegbci-data/files/eegmmidb/1.0.0/S007/S007R04.edf...\n",
      "EDF file detected\n",
      "Setting channel info structure...\n",
      "Could not determine channel type of the following channels, they will be set as EEG:\n",
      "Fc5., Fc3., Fc1., Fcz., Fc2., Fc4., Fc6., C5.., C3.., C1.., Cz.., C2.., C4.., C6.., Cp5., Cp3., Cp1., Cpz., Cp2., Cp4., Cp6., Fp1., Fpz., Fp2., Af7., Af3., Afz., Af4., Af8., F7.., F5.., F3.., F1.., Fz.., F2.., F4.., F6.., F8.., Ft7., Ft8., T7.., T8.., T9.., T10., Tp7., Tp8., P7.., P5.., P3.., P1.., Pz.., P2.., P4.., P6.., P8.., Po7., Po3., Poz., Po4., Po8., O1.., Oz.., O2.., Iz..\n",
      "Creating raw.info structure...\n",
      "Reading 0 ... 19999  =      0.000 ...   124.994 secs...\n",
      "Extracting EDF parameters from /Users/marieconstance.corsi/Documents/GitHub/datasets/MNE-eegbci-data/files/eegmmidb/1.0.0/S007/S007R08.edf...\n",
      "EDF file detected\n",
      "Setting channel info structure...\n",
      "Could not determine channel type of the following channels, they will be set as EEG:\n",
      "Fc5., Fc3., Fc1., Fcz., Fc2., Fc4., Fc6., C5.., C3.., C1.., Cz.., C2.., C4.., C6.., Cp5., Cp3., Cp1., Cpz., Cp2., Cp4., Cp6., Fp1., Fpz., Fp2., Af7., Af3., Afz., Af4., Af8., F7.., F5.., F3.., F1.., Fz.., F2.., F4.., F6.., F8.., Ft7., Ft8., T7.., T8.., T9.., T10., Tp7., Tp8., P7.., P5.., P3.., P1.., Pz.., P2.., P4.., P6.., P8.., Po7., Po3., Poz., Po4., Po8., O1.., Oz.., O2.., Iz..\n",
      "Creating raw.info structure...\n",
      "Reading 0 ... 19999  =      0.000 ...   124.994 secs...\n",
      "Filtering a subset of channels. The highpass and lowpass values in the measurement info will not be updated.\n",
      "Filtering raw data in 2 contiguous segments\n",
      "Setting up band-pass filter from 7 - 35 Hz\n",
      "\n",
      "IIR filter parameters\n",
      "---------------------\n",
      "Butterworth bandpass zero-phase (two-pass forward and reverse) non-causal filter:\n",
      "- Filter order 16 (effective, after forward-backward)\n",
      "- Cutoffs at 7.00, 35.00 Hz: -6.02, -6.02 dB\n",
      "\n",
      "Used Annotations descriptions: ['T1', 'T2']\n"
     ]
    }
   ],
   "source": [
    "# avoid classification of evoked responses by using epochs that start 1 second after cue onset.\n",
    "dataset = \"eegbci\"\n",
    "tmin, tmax = 1.0, 2.0\n",
    "event_id = dict(hands=2, feet=3)\n",
    "subject = 7\n",
    "runs = [4, 8]  # motor imagery: left vs right hand\n",
    "\n",
    "raw_files = [\n",
    "    read_raw_edf(f, preload=True) for f in eegbci.load_data(subject, runs)\n",
    "]\n",
    "raw = concatenate_raws(raw_files)\n",
    "\n",
    "picks = pick_types(\n",
    "    raw.info, meg=False, eeg=True, stim=False, eog=False, exclude=\"bads\"\n",
    ")\n",
    "# subsample elecs\n",
    "picks = picks[::2]\n",
    "\n",
    "# Apply band-pass filter\n",
    "raw.filter(7.0, 35.0, method=\"iir\", picks=picks)\n",
    "\n",
    "events, _ = events_from_annotations(raw, event_id=dict(T1=2, T2=3))\n",
    "\n",
    "# Read epochs (train will be done only between 1 and 2s)\n",
    "epochs = Epochs(\n",
    "    raw,\n",
    "    events,\n",
    "    event_id,\n",
    "    tmin,\n",
    "    tmax,\n",
    "    proj=True,\n",
    "    picks=picks,\n",
    "    baseline=None,\n",
    "    preload=True,\n",
    "    verbose=False,\n",
    ")\n",
    "labels = epochs.events[:, -1] - 2\n",
    "fs = epochs.info[\"sfreq\"]\n",
    "X = 1e6 * epochs.get_data()\n"
   ]
  },
  {
   "cell_type": "code",
   "execution_count": 60,
   "id": "8d4d3512-68d8-49d0-aea2-7ca1ee0e57a2",
   "metadata": {},
   "outputs": [],
   "source": [
    "# let's explore/check the data information!\n",
    "\n",
    "#epochs.info.keys()\n",
    "#epochs.info[\"ch_names\"]\n",
    "# event_id\n",
    "#np.shape(events)\n",
    "#events\n",
    "\n",
    "#np.shape(X)\n"
   ]
  },
  {
   "cell_type": "code",
   "execution_count": 4,
   "id": "46042da5-a84f-4d2c-b20b-66b41ef81cf4",
   "metadata": {},
   "outputs": [],
   "source": [
    "#plot epochs - timeseries\n",
    "#epochs['hands'].plot(events=events, event_id=event_id)"
   ]
  },
  {
   "cell_type": "code",
   "execution_count": 5,
   "id": "86ce54aa-867f-4ffd-b3ca-aabe703ce664",
   "metadata": {},
   "outputs": [],
   "source": [
    "#plot epochs - psd\n",
    "# epochs['hands'].plot_psd(picks='eeg')\n",
    "# epochs['feet'].plot_psd(picks='eeg') # for C3: picks=['C3..']"
   ]
  },
  {
   "cell_type": "code",
   "execution_count": 7,
   "id": "bf659477-fddd-454d-9286-f7279cd33c2e",
   "metadata": {},
   "outputs": [],
   "source": [
    "# plot overview over the trials\n",
    "# epochs['hands'].plot_image(picks=['C3..'])\n",
    "# epochs['feet'].plot_image(picks=['C3..'])"
   ]
  },
  {
   "cell_type": "markdown",
   "id": "58d9d17b-b314-4514-aacf-ac2b5cf83344",
   "metadata": {},
   "source": [
    "### Step 3 - We define our pipelines"
   ]
  },
  {
   "cell_type": "code",
   "execution_count": 8,
   "id": "5c211b9e-1cb1-4f97-a23e-fe4372101d3b",
   "metadata": {},
   "outputs": [],
   "source": [
    "# ppl_baseline corresponds to the state-of-the-art methods to which we will compare our pipeline\n",
    "# ppl_fc corresponds to the pipeline relying on specific functional connectivity metrics\n",
    "# ppl_ens corresponds to the FUCONE approach, aka, applying an ensemble method\n",
    "ppl_baseline, ppl_fc, ppl_ens = {}, {}, {}"
   ]
  },
  {
   "cell_type": "code",
   "execution_count": 9,
   "id": "5d87b84c-34dd-4fbc-8531-007a1fcc93cc",
   "metadata": {},
   "outputs": [],
   "source": [
    "# Baseline - CSP+optSVM\n",
    "param_svm = {\"kernel\": (\"linear\", \"rbf\"), \"C\": [0.1, 1, 10]}\n",
    "step_csp = [\n",
    "    (\"cov\", Covariances(estimator=\"lwf\")),\n",
    "    (\"csp\", CSP(nfilter=6)),\n",
    "    (\"optsvm\", GridSearchCV(SVC(), param_svm, cv=3)),\n",
    "]\n",
    "ppl_baseline[\"CSP+optSVM\"] = Pipeline(steps=step_csp)\n",
    "\n",
    "# Baseline - FgMDM\n",
    "step_mdm = [\n",
    "    (\"cov\", Covariances(estimator=\"lwf\")),\n",
    "    (\"fgmdm\", FgMDM(metric=\"riemann\", tsupdate=False)),\n",
    "]\n",
    "ppl_baseline[\"FgMDM\"] = Pipeline(steps=step_mdm)"
   ]
  },
  {
   "cell_type": "code",
   "execution_count": 10,
   "id": "bfbd61c2-34fa-4b58-bc52-1faa0aecde90",
   "metadata": {},
   "outputs": [],
   "source": [
    "# list of features used: covariance matrices, lagged coherence, instantaneous coherence\n",
    "spectral_met = [\"cov\", \"lagged\", \"instantaneous\"]\n",
    "fmin, fmax = 8, 35\n",
    "param_lr = {\n",
    "    \"penalty\": \"elasticnet\",\n",
    "    \"l1_ratio\": 0.15,\n",
    "    \"intercept_scaling\": 1000.0,\n",
    "    \"solver\": \"saga\",\n",
    "}\n",
    "param_ft = {\"fmin\": fmin, \"fmax\": fmax, \"fs\": fs}\n",
    "\n",
    "# We apply a logistic regression in tangent space\n",
    "step_fc = [\n",
    "    (\"spd\", NearestSPD()),\n",
    "    (\"tg\", TangentSpace(metric=\"riemann\")),\n",
    "    (\"LogistReg\", LogisticRegression(**param_lr)), \n",
    "]\n",
    "for sm in spectral_met:\n",
    "    pname = sm + \"+elasticnet\"\n",
    "    if sm == \"cov\":\n",
    "        ppl_fc[pname] = Pipeline(\n",
    "            steps=[(\"cov\", Covariances(estimator=\"lwf\"))] + step_fc\n",
    "        )\n",
    "    else:\n",
    "        ft = Connectivities(**param_ft, method=sm)\n",
    "        ppl_fc[pname] = Pipeline(steps=[(\"ft\", ft)] + step_fc)"
   ]
  },
  {
   "cell_type": "code",
   "execution_count": 11,
   "id": "dfb1a0ce-89cc-42cf-a28b-16b3ff96a9bd",
   "metadata": {},
   "outputs": [],
   "source": [
    "# Here, the ensemble classifier stacks a logistic regression on top of the three functional connectivity pipelines for a global prediction\n",
    "fc_estim = [(n, ppl_fc[n]) for n in ppl_fc]\n",
    "cvkf = StratifiedKFold(n_splits=5, shuffle=True, random_state=42)\n",
    "\n",
    "lr = LogisticRegression(**param_lr)\n",
    "ppl_ens[\"ensemble\"] = StackingClassifier(\n",
    "    estimators=fc_estim,\n",
    "    cv=cvkf,\n",
    "    n_jobs=1,\n",
    "    final_estimator=lr,\n",
    "    stack_method=\"predict_proba\",\n",
    ")\n"
   ]
  },
  {
   "cell_type": "markdown",
   "id": "88a6766c-e260-4a0b-baae-3ec744791633",
   "metadata": {
    "tags": []
   },
   "source": [
    "### Step 4 - We perform the evaluation"
   ]
  },
  {
   "cell_type": "code",
   "execution_count": 12,
   "id": "f21f8056-d91a-476d-8d59-8a1a07e3ba74",
   "metadata": {},
   "outputs": [
    {
     "name": "stderr",
     "output_type": "stream",
     "text": [
      "/opt/anaconda3/envs/tuto_meeg/lib/python3.8/site-packages/pyriemann/utils/mean.py:470: UserWarning: Convergence not reached\n",
      "  warnings.warn('Convergence not reached')\n",
      "/opt/anaconda3/envs/tuto_meeg/lib/python3.8/site-packages/sklearn/linear_model/_sag.py:352: ConvergenceWarning: The max_iter was reached which means the coef_ did not converge\n",
      "  warnings.warn(\n",
      "/opt/anaconda3/envs/tuto_meeg/lib/python3.8/site-packages/pyriemann/utils/mean.py:470: UserWarning: Convergence not reached\n",
      "  warnings.warn('Convergence not reached')\n",
      "/opt/anaconda3/envs/tuto_meeg/lib/python3.8/site-packages/sklearn/linear_model/_sag.py:352: ConvergenceWarning: The max_iter was reached which means the coef_ did not converge\n",
      "  warnings.warn(\n",
      "/opt/anaconda3/envs/tuto_meeg/lib/python3.8/site-packages/pyriemann/utils/mean.py:470: UserWarning: Convergence not reached\n",
      "  warnings.warn('Convergence not reached')\n",
      "/opt/anaconda3/envs/tuto_meeg/lib/python3.8/site-packages/sklearn/linear_model/_sag.py:352: ConvergenceWarning: The max_iter was reached which means the coef_ did not converge\n",
      "  warnings.warn(\n",
      "/opt/anaconda3/envs/tuto_meeg/lib/python3.8/site-packages/pyriemann/utils/mean.py:470: UserWarning: Convergence not reached\n",
      "  warnings.warn('Convergence not reached')\n",
      "/opt/anaconda3/envs/tuto_meeg/lib/python3.8/site-packages/sklearn/linear_model/_sag.py:352: ConvergenceWarning: The max_iter was reached which means the coef_ did not converge\n",
      "  warnings.warn(\n",
      "/opt/anaconda3/envs/tuto_meeg/lib/python3.8/site-packages/pyriemann/utils/mean.py:470: UserWarning: Convergence not reached\n",
      "  warnings.warn('Convergence not reached')\n",
      "/opt/anaconda3/envs/tuto_meeg/lib/python3.8/site-packages/sklearn/linear_model/_sag.py:352: ConvergenceWarning: The max_iter was reached which means the coef_ did not converge\n",
      "  warnings.warn(\n",
      "/opt/anaconda3/envs/tuto_meeg/lib/python3.8/site-packages/pyriemann/utils/mean.py:470: UserWarning: Convergence not reached\n",
      "  warnings.warn('Convergence not reached')\n",
      "/opt/anaconda3/envs/tuto_meeg/lib/python3.8/site-packages/sklearn/linear_model/_sag.py:352: ConvergenceWarning: The max_iter was reached which means the coef_ did not converge\n",
      "  warnings.warn(\n",
      "/opt/anaconda3/envs/tuto_meeg/lib/python3.8/site-packages/pyriemann/utils/mean.py:470: UserWarning: Convergence not reached\n",
      "  warnings.warn('Convergence not reached')\n",
      "/opt/anaconda3/envs/tuto_meeg/lib/python3.8/site-packages/sklearn/linear_model/_sag.py:352: ConvergenceWarning: The max_iter was reached which means the coef_ did not converge\n",
      "  warnings.warn(\n",
      "/opt/anaconda3/envs/tuto_meeg/lib/python3.8/site-packages/pyriemann/utils/mean.py:470: UserWarning: Convergence not reached\n",
      "  warnings.warn('Convergence not reached')\n",
      "/opt/anaconda3/envs/tuto_meeg/lib/python3.8/site-packages/sklearn/linear_model/_sag.py:352: ConvergenceWarning: The max_iter was reached which means the coef_ did not converge\n",
      "  warnings.warn(\n",
      "/opt/anaconda3/envs/tuto_meeg/lib/python3.8/site-packages/pyriemann/utils/mean.py:470: UserWarning: Convergence not reached\n",
      "  warnings.warn('Convergence not reached')\n",
      "/opt/anaconda3/envs/tuto_meeg/lib/python3.8/site-packages/sklearn/linear_model/_sag.py:352: ConvergenceWarning: The max_iter was reached which means the coef_ did not converge\n",
      "  warnings.warn(\n",
      "/opt/anaconda3/envs/tuto_meeg/lib/python3.8/site-packages/pyriemann/utils/mean.py:470: UserWarning: Convergence not reached\n",
      "  warnings.warn('Convergence not reached')\n",
      "/opt/anaconda3/envs/tuto_meeg/lib/python3.8/site-packages/sklearn/linear_model/_sag.py:352: ConvergenceWarning: The max_iter was reached which means the coef_ did not converge\n",
      "  warnings.warn(\n",
      "/opt/anaconda3/envs/tuto_meeg/lib/python3.8/site-packages/pyriemann/utils/mean.py:470: UserWarning: Convergence not reached\n",
      "  warnings.warn('Convergence not reached')\n",
      "/opt/anaconda3/envs/tuto_meeg/lib/python3.8/site-packages/sklearn/linear_model/_sag.py:352: ConvergenceWarning: The max_iter was reached which means the coef_ did not converge\n",
      "  warnings.warn(\n",
      "/opt/anaconda3/envs/tuto_meeg/lib/python3.8/site-packages/pyriemann/utils/mean.py:470: UserWarning: Convergence not reached\n",
      "  warnings.warn('Convergence not reached')\n",
      "/opt/anaconda3/envs/tuto_meeg/lib/python3.8/site-packages/sklearn/linear_model/_sag.py:352: ConvergenceWarning: The max_iter was reached which means the coef_ did not converge\n",
      "  warnings.warn(\n",
      "/opt/anaconda3/envs/tuto_meeg/lib/python3.8/site-packages/pyriemann/utils/mean.py:470: UserWarning: Convergence not reached\n",
      "  warnings.warn('Convergence not reached')\n",
      "/opt/anaconda3/envs/tuto_meeg/lib/python3.8/site-packages/sklearn/linear_model/_sag.py:352: ConvergenceWarning: The max_iter was reached which means the coef_ did not converge\n",
      "  warnings.warn(\n",
      "/opt/anaconda3/envs/tuto_meeg/lib/python3.8/site-packages/pyriemann/utils/mean.py:470: UserWarning: Convergence not reached\n",
      "  warnings.warn('Convergence not reached')\n",
      "/opt/anaconda3/envs/tuto_meeg/lib/python3.8/site-packages/sklearn/linear_model/_sag.py:352: ConvergenceWarning: The max_iter was reached which means the coef_ did not converge\n",
      "  warnings.warn(\n",
      "/opt/anaconda3/envs/tuto_meeg/lib/python3.8/site-packages/pyriemann/utils/mean.py:470: UserWarning: Convergence not reached\n",
      "  warnings.warn('Convergence not reached')\n",
      "/opt/anaconda3/envs/tuto_meeg/lib/python3.8/site-packages/sklearn/linear_model/_sag.py:352: ConvergenceWarning: The max_iter was reached which means the coef_ did not converge\n",
      "  warnings.warn(\n",
      "/opt/anaconda3/envs/tuto_meeg/lib/python3.8/site-packages/pyriemann/utils/mean.py:470: UserWarning: Convergence not reached\n",
      "  warnings.warn('Convergence not reached')\n",
      "/opt/anaconda3/envs/tuto_meeg/lib/python3.8/site-packages/sklearn/linear_model/_sag.py:352: ConvergenceWarning: The max_iter was reached which means the coef_ did not converge\n",
      "  warnings.warn(\n",
      "/opt/anaconda3/envs/tuto_meeg/lib/python3.8/site-packages/pyriemann/utils/mean.py:470: UserWarning: Convergence not reached\n",
      "  warnings.warn('Convergence not reached')\n",
      "/opt/anaconda3/envs/tuto_meeg/lib/python3.8/site-packages/sklearn/linear_model/_sag.py:352: ConvergenceWarning: The max_iter was reached which means the coef_ did not converge\n",
      "  warnings.warn(\n",
      "/opt/anaconda3/envs/tuto_meeg/lib/python3.8/site-packages/pyriemann/utils/mean.py:470: UserWarning: Convergence not reached\n",
      "  warnings.warn('Convergence not reached')\n",
      "/opt/anaconda3/envs/tuto_meeg/lib/python3.8/site-packages/sklearn/linear_model/_sag.py:352: ConvergenceWarning: The max_iter was reached which means the coef_ did not converge\n",
      "  warnings.warn(\n",
      "/opt/anaconda3/envs/tuto_meeg/lib/python3.8/site-packages/pyriemann/utils/mean.py:470: UserWarning: Convergence not reached\n",
      "  warnings.warn('Convergence not reached')\n",
      "/opt/anaconda3/envs/tuto_meeg/lib/python3.8/site-packages/sklearn/linear_model/_sag.py:352: ConvergenceWarning: The max_iter was reached which means the coef_ did not converge\n",
      "  warnings.warn(\n",
      "/opt/anaconda3/envs/tuto_meeg/lib/python3.8/site-packages/pyriemann/utils/mean.py:470: UserWarning: Convergence not reached\n",
      "  warnings.warn('Convergence not reached')\n",
      "/opt/anaconda3/envs/tuto_meeg/lib/python3.8/site-packages/sklearn/linear_model/_sag.py:352: ConvergenceWarning: The max_iter was reached which means the coef_ did not converge\n",
      "  warnings.warn(\n",
      "/opt/anaconda3/envs/tuto_meeg/lib/python3.8/site-packages/pyriemann/utils/mean.py:470: UserWarning: Convergence not reached\n",
      "  warnings.warn('Convergence not reached')\n",
      "/opt/anaconda3/envs/tuto_meeg/lib/python3.8/site-packages/sklearn/linear_model/_sag.py:352: ConvergenceWarning: The max_iter was reached which means the coef_ did not converge\n",
      "  warnings.warn(\n",
      "/opt/anaconda3/envs/tuto_meeg/lib/python3.8/site-packages/pyriemann/utils/mean.py:470: UserWarning: Convergence not reached\n",
      "  warnings.warn('Convergence not reached')\n",
      "/opt/anaconda3/envs/tuto_meeg/lib/python3.8/site-packages/sklearn/linear_model/_sag.py:352: ConvergenceWarning: The max_iter was reached which means the coef_ did not converge\n",
      "  warnings.warn(\n",
      "/opt/anaconda3/envs/tuto_meeg/lib/python3.8/site-packages/pyriemann/utils/mean.py:470: UserWarning: Convergence not reached\n",
      "  warnings.warn('Convergence not reached')\n",
      "/opt/anaconda3/envs/tuto_meeg/lib/python3.8/site-packages/sklearn/linear_model/_sag.py:352: ConvergenceWarning: The max_iter was reached which means the coef_ did not converge\n",
      "  warnings.warn(\n",
      "/opt/anaconda3/envs/tuto_meeg/lib/python3.8/site-packages/pyriemann/utils/mean.py:470: UserWarning: Convergence not reached\n",
      "  warnings.warn('Convergence not reached')\n",
      "/opt/anaconda3/envs/tuto_meeg/lib/python3.8/site-packages/sklearn/linear_model/_sag.py:352: ConvergenceWarning: The max_iter was reached which means the coef_ did not converge\n",
      "  warnings.warn(\n",
      "/opt/anaconda3/envs/tuto_meeg/lib/python3.8/site-packages/pyriemann/utils/mean.py:470: UserWarning: Convergence not reached\n",
      "  warnings.warn('Convergence not reached')\n",
      "/opt/anaconda3/envs/tuto_meeg/lib/python3.8/site-packages/sklearn/linear_model/_sag.py:352: ConvergenceWarning: The max_iter was reached which means the coef_ did not converge\n",
      "  warnings.warn(\n",
      "/opt/anaconda3/envs/tuto_meeg/lib/python3.8/site-packages/sklearn/linear_model/_sag.py:352: ConvergenceWarning: The max_iter was reached which means the coef_ did not converge\n",
      "  warnings.warn(\n",
      "/opt/anaconda3/envs/tuto_meeg/lib/python3.8/site-packages/pyriemann/utils/mean.py:470: UserWarning: Convergence not reached\n",
      "  warnings.warn('Convergence not reached')\n",
      "/opt/anaconda3/envs/tuto_meeg/lib/python3.8/site-packages/sklearn/linear_model/_sag.py:352: ConvergenceWarning: The max_iter was reached which means the coef_ did not converge\n",
      "  warnings.warn(\n",
      "/opt/anaconda3/envs/tuto_meeg/lib/python3.8/site-packages/pyriemann/utils/mean.py:470: UserWarning: Convergence not reached\n",
      "  warnings.warn('Convergence not reached')\n",
      "/opt/anaconda3/envs/tuto_meeg/lib/python3.8/site-packages/sklearn/linear_model/_sag.py:352: ConvergenceWarning: The max_iter was reached which means the coef_ did not converge\n",
      "  warnings.warn(\n",
      "/opt/anaconda3/envs/tuto_meeg/lib/python3.8/site-packages/pyriemann/utils/mean.py:470: UserWarning: Convergence not reached\n",
      "  warnings.warn('Convergence not reached')\n",
      "/opt/anaconda3/envs/tuto_meeg/lib/python3.8/site-packages/sklearn/linear_model/_sag.py:352: ConvergenceWarning: The max_iter was reached which means the coef_ did not converge\n",
      "  warnings.warn(\n",
      "/opt/anaconda3/envs/tuto_meeg/lib/python3.8/site-packages/pyriemann/utils/mean.py:470: UserWarning: Convergence not reached\n",
      "  warnings.warn('Convergence not reached')\n",
      "/opt/anaconda3/envs/tuto_meeg/lib/python3.8/site-packages/sklearn/linear_model/_sag.py:352: ConvergenceWarning: The max_iter was reached which means the coef_ did not converge\n",
      "  warnings.warn(\n",
      "/opt/anaconda3/envs/tuto_meeg/lib/python3.8/site-packages/pyriemann/utils/mean.py:470: UserWarning: Convergence not reached\n",
      "  warnings.warn('Convergence not reached')\n",
      "/opt/anaconda3/envs/tuto_meeg/lib/python3.8/site-packages/sklearn/linear_model/_sag.py:352: ConvergenceWarning: The max_iter was reached which means the coef_ did not converge\n",
      "  warnings.warn(\n"
     ]
    }
   ],
   "source": [
    "dataset_res = list()\n",
    "all_ppl = {**ppl_baseline, **ppl_ens}\n",
    "\n",
    "# Compute results\n",
    "results = get_results(X, labels, all_ppl)\n",
    "results = pd.DataFrame(results)\n",
    "\n",
    "# Add a subject & dataset columns for the upcoming steps\n",
    "results.insert(0, 'subject', subject)\n",
    "results.insert(0, 'dataset', dataset)"
   ]
  },
  {
   "cell_type": "markdown",
   "id": "ec67a5f5-bcb1-4c8b-8a2e-b5f7fb10adcc",
   "metadata": {},
   "source": [
    "### Step 5 - We analyse and we plot the results "
   ]
  },
  {
   "cell_type": "code",
   "execution_count": 13,
   "id": "1c6eb42e-8469-4058-baa8-6ede3b69ee36",
   "metadata": {},
   "outputs": [],
   "source": [
    "# Just to have an idea about the content of the dataframe\n",
    "#results"
   ]
  },
  {
   "cell_type": "code",
   "execution_count": 14,
   "id": "365b9a05-283b-4842-95e7-bd6479547d6b",
   "metadata": {},
   "outputs": [],
   "source": [
    "# simply for the record, some useful functions to use for a thorough statistical analysis - not relevant here given the low number of samplings to be compared\n",
    "stats = compute_dataset_statistics(results)\n",
    "P, T = find_significant_differences(stats) # comparison of pipelines, 2 by 2\n",
    "# moabb_plt.summary_plot(P, T, p_threshold=0.05, simplify=True)"
   ]
  },
  {
   "cell_type": "code",
   "execution_count": 16,
   "id": "42afd18d-419f-48a7-95c9-65ecab9aca8c",
   "metadata": {},
   "outputs": [
    {
     "data": {
      "text/plain": [
       "Text(0.5, 1.0, 'Comparison between pipelines in subject 7')"
      ]
     },
     "execution_count": 16,
     "metadata": {},
     "output_type": "execute_result"
    },
    {
     "data": {
      "image/png": "[encoded data removed]",
      "text/plain": [
       "<Figure size 907.2x302.4 with 1 Axes>"
      ]
     },
     "metadata": {},
     "output_type": "display_data"
    }
   ],
   "source": [
    "plt.style.use(\"dark_background\")\n",
    "\n",
    "list_fc_ens = [\"ensemble\", \"CSP+optSVM\", \"FgMDM\"] + \\\n",
    "    [sm + \"+elasticnet\" for sm in spectral_met]\n",
    "\n",
    "list_fc_ens_disp= [\"FUCONE\", \"CSP+optSVM\", \"FgMDM\"] + \\\n",
    "    [sm + \"+elasticnet\" for sm in spectral_met]\n",
    "\n",
    "g = sns.catplot(\n",
    "    data=results,\n",
    "    x=\"pipeline\",\n",
    "    y=\"score\",\n",
    "    kind=\"swarm\",\n",
    "    order=list_fc_ens,\n",
    "    height=4.2,\n",
    "    aspect=3,\n",
    ")\n",
    "plt.xticks(range(len(list_fc_ens_disp)),list_fc_ens_disp)\n",
    "plt.title('Comparison between pipelines in subject ' + str(subject))\n",
    "plt.show()"
   ]
  },
  {
   "cell_type": "code",
   "execution_count": null,
   "id": "ef0c9f45-f4b8-4fed-a9c3-70092ac98253",
   "metadata": {},
   "outputs": [],
   "source": []
  }
 ],
 "metadata": {
  "kernelspec": {
   "display_name": "Python 3 (ipykernel)",
   "language": "python",
   "name": "python3"
  },
  "language_info": {
   "codemirror_mode": {
    "name": "ipython",
    "version": 3
   },
   "file_extension": ".py",
   "mimetype": "text/x-python",
   "name": "python",
   "nbconvert_exporter": "python",
   "pygments_lexer": "ipython3",
   "version": "3.8.10"
  }
 },
 "nbformat": 4,
 "nbformat_minor": 5
}
